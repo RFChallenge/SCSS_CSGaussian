{
 "cells": [
  {
   "cell_type": "code",
   "execution_count": 1,
   "metadata": {},
   "outputs": [
    {
     "name": "stdout",
     "output_type": "stream",
     "text": [
      "/home/gridsan/glcf411/sigsep_mlsp\n"
     ]
    }
   ],
   "source": [
    "%load_ext autoreload\n",
    "%autoreload 2\n",
    "\n",
    "import os\n",
    "os.chdir(globals()['_dh'][0])\n",
    "os.chdir('..')\n",
    "print(os.path.abspath(os.curdir))"
   ]
  },
  {
   "cell_type": "code",
   "execution_count": 2,
   "metadata": {},
   "outputs": [],
   "source": [
    "import numpy as np\n",
    "import matplotlib.pyplot as plt\n",
    "from tqdm import tqdm\n",
    "import time\n",
    "import pickle\n",
    "from tqdm import tqdm\n",
    "\n",
    "import rfcutils.srrcgaussian_helper_fn as srrcfn\n",
    "import rfcutils.ofdm2gaussian_helper_fn as ofdmfn\n",
    "\n",
    "get_pow = lambda s: np.mean(np.abs(s)**2)\n",
    "get_sinr = lambda s, i: 10*np.log10(get_pow(s)/get_pow(i))"
   ]
  },
  {
   "cell_type": "code",
   "execution_count": 3,
   "metadata": {},
   "outputs": [],
   "source": [
    "from src import unet_model as unet"
   ]
  },
  {
   "cell_type": "markdown",
   "metadata": {},
   "source": [
    "---"
   ]
  },
  {
   "cell_type": "code",
   "execution_count": 4,
   "metadata": {},
   "outputs": [],
   "source": [
    "import tensorflow as tf"
   ]
  },
  {
   "cell_type": "code",
   "execution_count": 5,
   "metadata": {},
   "outputs": [],
   "source": [
    "sig_len = 1280"
   ]
  },
  {
   "cell_type": "code",
   "execution_count": 6,
   "metadata": {},
   "outputs": [],
   "source": [
    "all_nn_models = []\n",
    "for long_k_sz in [101, 11, 3]:\n",
    "    nn_model = unet.get_unet_model0((sig_len, 2), k_sz=3, long_k_sz=long_k_sz, k_neurons=32)\n",
    "    nn_model.load_weights(f'unet_comm_models/SRRCGaussian_OFDMGaussian2_1280_K{long_k_sz}/checkpoint')\n",
    "    all_nn_models.append(nn_model)"
   ]
  },
  {
   "cell_type": "code",
   "execution_count": 7,
   "metadata": {},
   "outputs": [],
   "source": [
    "cov_true_srrc, cov_ofdm_sync = pickle.load(open('stats/comm_ofdm2_covariance.pickle','rb'))\n",
    "\n",
    "cov_s, cov_b = np.zeros((sig_len, sig_len), dtype=complex), np.zeros((sig_len, sig_len), dtype=complex)\n",
    "for i in range(80):\n",
    "    cov_s += cov_true_srrc[i:i+sig_len, i:i+sig_len]\n",
    "for i in range(79):\n",
    "    cov_b += cov_ofdm_sync[i:i+sig_len, i:i+sig_len]\n",
    "cov_s = cov_s / 80\n",
    "cov_b = cov_b / 79"
   ]
  },
  {
   "cell_type": "code",
   "execution_count": 8,
   "metadata": {},
   "outputs": [],
   "source": [
    "from scipy import linalg\n",
    "\n",
    "window_len = 1280\n",
    "def lmmse(sig_mixture, sinr_db):\n",
    "    sinr = 10**(sinr_db/10)\n",
    "    \n",
    "    scaled_Cbb = cov_b * 1/sinr\n",
    "    Cyy = cov_s + scaled_Cbb + 0.01*np.eye(window_len, dtype=complex)\n",
    "    Csy = cov_s.copy()\n",
    "\n",
    "#     Cyy_inv = np.linalg.pinv(Cyy,hermitian=True)\n",
    "    U,S,Vh = np.linalg.svd(Cyy,hermitian=True)\n",
    "    sthr_idx = np.linalg.matrix_rank(Cyy) + 1\n",
    "    Cyy_inv = np.matmul(U[:,:sthr_idx], np.matmul(np.diag(1.0/(S[:sthr_idx])), U[:,:sthr_idx].conj().T))\n",
    "    W = np.matmul(Csy,Cyy_inv)\n",
    "    \n",
    "    s_est_windows = np.matmul(W, sig_mixture.reshape(-1, window_len).T).T\n",
    "    s_est = s_est_windows.flatten()\n",
    "    \n",
    "    return s_est\n",
    "\n",
    "def sync_mmse(sig_mixture, sinr_db, tau_b, tau_s):\n",
    "    Css = cov_true_srrc[tau_s:tau_s+window_len, tau_s:tau_s+window_len]\n",
    "    Cbb = cov_ofdm_sync[tau_b:tau_b+window_len, tau_b:tau_b+window_len]\n",
    "    \n",
    "    sinr = 10**(sinr_db/10)\n",
    "    scaled_Cbb = Cbb * 1/sinr\n",
    "    Cyy = Css + scaled_Cbb + 0.01*np.eye(window_len, dtype=complex)\n",
    "    Csy = Css.copy()\n",
    "    \n",
    "    U,S,Vh = np.linalg.svd(Cyy,hermitian=True)\n",
    "    sthr_idx = np.linalg.matrix_rank(Cyy) + 1\n",
    "    Cyy_inv = np.matmul(U[:,:sthr_idx], np.matmul(np.diag(1.0/(S[:sthr_idx])), U[:,:sthr_idx].conj().T))\n",
    "    W = np.matmul(Csy,Cyy_inv)\n",
    "    \n",
    "    s_est_windows = np.matmul(W, sig_mixture.reshape(-1, window_len).T).T\n",
    "    s_est = s_est_windows.flatten()\n",
    "    \n",
    "    err = Csy - np.matmul(W, Csy.conj().T)\n",
    "    err = np.abs(np.mean(np.diag(Csy - np.matmul(W, Csy.conj().T))))\n",
    "    return s_est, err"
   ]
  },
  {
   "cell_type": "code",
   "execution_count": 9,
   "metadata": {},
   "outputs": [
    {
     "name": "stderr",
     "output_type": "stream",
     "text": [
      "100%|██████████| 23/23 [17:52:27<00:00, 2797.71s/it]  \n"
     ]
    }
   ],
   "source": [
    "import random\n",
    "random.seed(123)\n",
    "np.random.seed(123)\n",
    "\n",
    "all_components = []\n",
    "\n",
    "all_mse = []\n",
    "n_per_sinr = 1000\n",
    "all_sinr_ax = np.arange(-30,4,1.5)\n",
    "all_err = []\n",
    "\n",
    "for target_sinr in tqdm(all_sinr_ax):\n",
    "    for idx in range(n_per_sinr):\n",
    "        sig1, _, _, _ = srrcfn.generate_srrc_signal(sig_len//16 + 80)\n",
    "        start_idx0 = np.random.randint(16)\n",
    "        sig1 = sig1[40*16+start_idx0:40*16+sig_len+start_idx0]\n",
    "\n",
    "#         data2, _, _ = ofdmfn.generate_ofdm_signal(sig_len//80*56+4*56)\n",
    "        data2, _, _ = ofdmfn.generate_ofdm_signal(sig_len//79*56+4*56)\n",
    "        start_idx = np.random.randint(len(data2)-sig_len)\n",
    "        sig2 = data2[start_idx:start_idx+sig_len]\n",
    "\n",
    "        coeff = np.sqrt(np.mean(np.abs(sig1)**2)/(np.mean(np.abs(sig2)**2)*(10**(target_sinr/10))))\n",
    "        \n",
    "        noise = 0.1/np.sqrt(2) * (np.random.randn(sig_len) + 1j*np.random.randn(sig_len))\n",
    "        sig_mixture = sig1 + sig2*coeff + noise\n",
    "        \n",
    "        all_components.append((sig_mixture, sig1, sig2, noise, coeff))\n",
    "        \n",
    "        sig1_lmmse = lmmse(sig_mixture, target_sinr)\n",
    "#         sig1_smmse, err = sync_mmse(sig_mixture, target_sinr, start_idx % 80, start_idx0 % 80)\n",
    "        sig1_smmse, err = sync_mmse(sig_mixture, target_sinr, start_idx % 79, start_idx0 % 80)\n",
    "        all_err.append(err)\n",
    "        \n",
    "        mixture_segT = sig_mixture.reshape(-1, sig_len)\n",
    "        mixture_bands_compT = np.dstack((mixture_segT.real, mixture_segT.imag))\n",
    "        \n",
    "        with tf.device('CPU:0'):\n",
    "            mse_arr, mse2_arr = [], []\n",
    "            for nn_model in all_nn_models:\n",
    "                out1_est = nn_model(mixture_bands_compT).numpy()\n",
    "                sig1_est = (out1_est[:,:,0] + 1j*out1_est[:,:,1]).flatten()\n",
    "                \n",
    "                mse_arr.append(get_pow(sig1-sig1_est))\n",
    "        \n",
    "        mse_arr.append(get_pow(sig1-sig1_lmmse))\n",
    "        mse_arr.append(get_pow(sig1-sig1_smmse))\n",
    "        \n",
    "        all_mse.append(mse_arr)"
   ]
  },
  {
   "cell_type": "code",
   "execution_count": 10,
   "metadata": {},
   "outputs": [],
   "source": [
    "all_mse = np.array(all_mse)\n",
    "\n",
    "pickle.dump(all_mse[:,-2], open('output2/Comm2_MSE_LMMSE.pickle', 'wb'))\n",
    "pickle.dump(all_mse[:,-1], open('output2/Comm2_MSE_SyncMMSE.pickle', 'wb'))\n",
    "\n",
    "pickle.dump(all_mse[:,0], open('output2/Comm2_MSE_UnetK101.pickle', 'wb'))\n",
    "pickle.dump(all_mse[:,1], open('output2/Comm2_MSE_UnetK11.pickle', 'wb'))\n",
    "pickle.dump(all_mse[:,2], open('output2/Comm2_MSE_UnetK3.pickle', 'wb'))"
   ]
  },
  {
   "cell_type": "code",
   "execution_count": 11,
   "metadata": {},
   "outputs": [],
   "source": [
    "plt.rcParams['font.size'] = '14'\n",
    "plt.rcParams['lines.linewidth'] = 3\n",
    "plt.rcParams['lines.markersize'] = 8\n",
    "plt.rcParams['lines.markeredgewidth'] = 2\n",
    "plt.rcParams[\"font.family\"] = \"serif\""
   ]
  },
  {
   "cell_type": "code",
   "execution_count": 12,
   "metadata": {},
   "outputs": [
    {
     "name": "stdout",
     "output_type": "stream",
     "text": [
      "[-6.41951131 -3.9863904  -3.63033257 -2.87842688 -7.56991233]\n"
     ]
    },
    {
     "data": {
      "text/plain": [
       "Text(0, 0.5, 'MSE($s$,$\\\\hat{s}$) [dB]')"
      ]
     },
     "execution_count": 12,
     "metadata": {},
     "output_type": "execute_result"
    },
    {
     "data": {
      "image/png": "[encoded data removed]",
      "text/plain": [
       "<Figure size 432x288 with 1 Axes>"
      ]
     },
     "metadata": {
      "needs_background": "light"
     },
     "output_type": "display_data"
    }
   ],
   "source": [
    "all_mse = np.array(all_mse)\n",
    "print(10*np.log10(all_mse.mean(axis=0)))\n",
    "\n",
    "plt.plot(all_sinr_ax, 10*np.log10(all_mse[:,-2].reshape(-1,n_per_sinr).mean(axis=-1)), 'd-', label='LMMSE')\n",
    "\n",
    "# plt.plot(all_sinr_ax, 10*np.log10(all_mse[:,2].reshape(-1,n_per_sinr).mean(axis=-1)), 'x-', label='U-Net Separation K=3', color='tab:brown')\n",
    "plt.plot(all_sinr_ax, 10*np.log10(all_mse[:,1].reshape(-1,n_per_sinr).mean(axis=-1)), 'x-', label='U-Net Separation K=11', color='tab:orange')\n",
    "plt.plot(all_sinr_ax, 10*np.log10(all_mse[:,0].reshape(-1,n_per_sinr).mean(axis=-1)), 'x-', label='U-Net Separation K=101', color='tab:green')\n",
    "\n",
    "plt.plot(all_sinr_ax, 10*np.log10(all_mse[:,-1].reshape(-1,n_per_sinr).mean(axis=-1)), '*--', label='Oracle-Sync \\nMMSE', zorder=0, color='tab:red')\n",
    "\n",
    "plt.legend(bbox_to_anchor=(1.1, 1))\n",
    "# plt.xlim([-30,3])\n",
    "plt.grid()\n",
    "plt.legend(loc='upper left', bbox_to_anchor=(1,1))\n",
    "plt.xlabel('SINR [dB]')\n",
    "plt.ylabel('MSE($s$,$\\hat{s}$) [dB]')"
   ]
  },
  {
   "cell_type": "code",
   "execution_count": 13,
   "metadata": {},
   "outputs": [
    {
     "data": {
      "text/plain": [
       "array([1.31891815, 1.22075059, 1.13668448, 1.09991255, 1.08271972,\n",
       "       1.06664636, 1.0518516 , 1.05403766, 1.06766499, 1.05047628,\n",
       "       1.06929614, 1.07822119, 1.0794994 , 1.09166243, 1.13094773,\n",
       "       1.15914663, 1.2156897 , 1.32483602, 1.45969802, 1.62691125,\n",
       "       1.84498557, 2.19368819, 2.66412705])"
      ]
     },
     "execution_count": 13,
     "metadata": {},
     "output_type": "execute_result"
    }
   ],
   "source": [
    "10*np.log10(all_mse[:,0].reshape(-1,n_per_sinr).mean(axis=-1)) - 10*np.log10(all_mse[:,-1].reshape(-1,n_per_sinr).mean(axis=-1))"
   ]
  },
  {
   "cell_type": "code",
   "execution_count": null,
   "metadata": {},
   "outputs": [],
   "source": []
  }
 ],
 "metadata": {
  "kernelspec": {
   "display_name": "Python [conda env:.conda-rfsep3]",
   "language": "python",
   "name": "conda-env-.conda-rfsep3-py"
  },
  "language_info": {
   "codemirror_mode": {
    "name": "ipython",
    "version": 3
   },
   "file_extension": ".py",
   "mimetype": "text/x-python",
   "name": "python",
   "nbconvert_exporter": "python",
   "pygments_lexer": "ipython3",
   "version": "3.7.6"
  }
 },
 "nbformat": 4,
 "nbformat_minor": 4
}
